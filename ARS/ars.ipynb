{
 "cells": [
  {
   "cell_type": "code",
   "execution_count": 2,
   "metadata": {},
   "outputs": [],
   "source": [
    "import numpy as np\n",
    "import pandas as pd"
   ]
  },
  {
   "cell_type": "code",
   "execution_count": 20,
   "metadata": {},
   "outputs": [],
   "source": [
    "df = pd.read_csv('sample.csv')"
   ]
  },
  {
   "cell_type": "code",
   "execution_count": 21,
   "metadata": {},
   "outputs": [
    {
     "name": "stdout",
     "output_type": "stream",
     "text": [
      "<class 'pandas.core.frame.DataFrame'>\n",
      "RangeIndex: 638 entries, 0 to 637\n",
      "Data columns (total 5 columns):\n",
      "x1    638 non-null float64\n",
      "x2    638 non-null float64\n",
      "x3    638 non-null float64\n",
      "y1    638 non-null float64\n",
      "y2    638 non-null float64\n",
      "dtypes: float64(5)\n",
      "memory usage: 25.0 KB\n",
      "None\n"
     ]
    },
    {
     "data": {
      "text/html": [
       "<div>\n",
       "<style scoped>\n",
       "    .dataframe tbody tr th:only-of-type {\n",
       "        vertical-align: middle;\n",
       "    }\n",
       "\n",
       "    .dataframe tbody tr th {\n",
       "        vertical-align: top;\n",
       "    }\n",
       "\n",
       "    .dataframe thead th {\n",
       "        text-align: right;\n",
       "    }\n",
       "</style>\n",
       "<table border=\"1\" class=\"dataframe\">\n",
       "  <thead>\n",
       "    <tr style=\"text-align: right;\">\n",
       "      <th></th>\n",
       "      <th>x1</th>\n",
       "      <th>x2</th>\n",
       "      <th>x3</th>\n",
       "      <th>y1</th>\n",
       "      <th>y2</th>\n",
       "    </tr>\n",
       "  </thead>\n",
       "  <tbody>\n",
       "    <tr>\n",
       "      <th>0</th>\n",
       "      <td>0.023920</td>\n",
       "      <td>-1.032606</td>\n",
       "      <td>-0.114918</td>\n",
       "      <td>-2.547151</td>\n",
       "      <td>2.518548</td>\n",
       "    </tr>\n",
       "    <tr>\n",
       "      <th>1</th>\n",
       "      <td>1.507484</td>\n",
       "      <td>0.555454</td>\n",
       "      <td>-0.715018</td>\n",
       "      <td>3.733967</td>\n",
       "      <td>-12.063853</td>\n",
       "    </tr>\n",
       "    <tr>\n",
       "      <th>2</th>\n",
       "      <td>-0.359939</td>\n",
       "      <td>-0.781827</td>\n",
       "      <td>0.215851</td>\n",
       "      <td>-3.064799</td>\n",
       "      <td>5.008582</td>\n",
       "    </tr>\n",
       "    <tr>\n",
       "      <th>3</th>\n",
       "      <td>-1.387022</td>\n",
       "      <td>-0.163753</td>\n",
       "      <td>1.350051</td>\n",
       "      <td>-5.854491</td>\n",
       "      <td>12.826572</td>\n",
       "    </tr>\n",
       "    <tr>\n",
       "      <th>4</th>\n",
       "      <td>-1.324774</td>\n",
       "      <td>1.418227</td>\n",
       "      <td>-0.818912</td>\n",
       "      <td>9.674015</td>\n",
       "      <td>-0.906457</td>\n",
       "    </tr>\n",
       "  </tbody>\n",
       "</table>\n",
       "</div>"
      ],
      "text/plain": [
       "         x1        x2        x3        y1         y2\n",
       "0  0.023920 -1.032606 -0.114918 -2.547151   2.518548\n",
       "1  1.507484  0.555454 -0.715018  3.733967 -12.063853\n",
       "2 -0.359939 -0.781827  0.215851 -3.064799   5.008582\n",
       "3 -1.387022 -0.163753  1.350051 -5.854491  12.826572\n",
       "4 -1.324774  1.418227 -0.818912  9.674015  -0.906457"
      ]
     },
     "execution_count": 21,
     "metadata": {},
     "output_type": "execute_result"
    }
   ],
   "source": [
    "print(df.info())\n",
    "df.head()"
   ]
  },
  {
   "cell_type": "code",
   "execution_count": null,
   "metadata": {},
   "outputs": [],
   "source": []
  },
  {
   "cell_type": "code",
   "execution_count": null,
   "metadata": {},
   "outputs": [],
   "source": []
  },
  {
   "cell_type": "code",
   "execution_count": 6,
   "metadata": {},
   "outputs": [],
   "source": [
    "input_size = 3\n",
    "output_size = 2\n",
    "learning_rate = 0.02\n",
    "number_of_perturbations = 16\n",
    "exploration_noise = 0.03"
   ]
  },
  {
   "cell_type": "code",
   "execution_count": 7,
   "metadata": {},
   "outputs": [],
   "source": [
    "weights = np.random.randn(input_size, output_size)"
   ]
  },
  {
   "cell_type": "code",
   "execution_count": 75,
   "metadata": {},
   "outputs": [],
   "source": [
    "def generate_perturbations(input_size, output_size, number_of_perturbations):\n",
    "    return np.array([np.random.randn(input_size, output_size) for _ in range(number_of_perturbations)])"
   ]
  },
  {
   "cell_type": "code",
   "execution_count": 96,
   "metadata": {},
   "outputs": [],
   "source": [
    "def perturbate_weights(weights, perturbations, exploration_noise):\n",
    "    input_size = weights.shape[0]\n",
    "    output_size = weights.shape[1]\n",
    "    perturbations = exploration_noise * perturbations\n",
    "    \n",
    "    #for pert in perturbations:\n",
    "    #    perturbated_weights.append(weights + pert)\n",
    "    #    perturbated_weights.append(weights - pert)\n",
    "    \n",
    "    positive_perturbated_weights = weights + perturbations\n",
    "    negative_perturbated_weights = weights - perturbations\n",
    "        \n",
    "    return positive_perturbated_weights, negative_perturbated_weights"
   ]
  },
  {
   "cell_type": "code",
   "execution_count": 49,
   "metadata": {},
   "outputs": [],
   "source": [
    "def calc_mse(weights, features, labels):\n",
    "    pred = np.matmul(features, weights)\n",
    "    squared_error = (pred - labels)**2\n",
    "    mean_squared_error = squared_error.mean(axis=0)\n",
    "    \n",
    "    return mean_squared_error"
   ]
  },
  {
   "cell_type": "code",
   "execution_count": 73,
   "metadata": {},
   "outputs": [],
   "source": [
    "def standardize_invert_mse(mse2d): # output can be treated as rewards\n",
    "    inverted_mse2d = 1/mse2d\n",
    "    \n",
    "    # standardizing the inverted_mse\n",
    "    for c in range(inverted_mse2d.shape[1]):\n",
    "        inverted_mse2d[:, c] = (inverted_mse2d[:, c] - inverted_mse2d[:, c].mean()) / inverted_mse2d[:, c].std()\n",
    "    \n",
    "    return inverted_mse2d"
   ]
  },
  {
   "cell_type": "code",
   "execution_count": null,
   "metadata": {},
   "outputs": [],
   "source": [
    "def update_weights():\n",
    "    pass"
   ]
  },
  {
   "cell_type": "code",
   "execution_count": null,
   "metadata": {},
   "outputs": [],
   "source": []
  },
  {
   "cell_type": "code",
   "execution_count": null,
   "metadata": {},
   "outputs": [],
   "source": []
  },
  {
   "cell_type": "code",
   "execution_count": 98,
   "metadata": {},
   "outputs": [],
   "source": [
    "# p = generate_perturbations(3,2,10)\n",
    "# p"
   ]
  },
  {
   "cell_type": "code",
   "execution_count": 99,
   "metadata": {},
   "outputs": [],
   "source": [
    "# perturbate_weights(weights, p, exploration_noise)"
   ]
  },
  {
   "cell_type": "code",
   "execution_count": null,
   "metadata": {},
   "outputs": [],
   "source": []
  }
 ],
 "metadata": {
  "kernelspec": {
   "display_name": "Python 3",
   "language": "python",
   "name": "python3"
  },
  "language_info": {
   "codemirror_mode": {
    "name": "ipython",
    "version": 3
   },
   "file_extension": ".py",
   "mimetype": "text/x-python",
   "name": "python",
   "nbconvert_exporter": "python",
   "pygments_lexer": "ipython3",
   "version": "3.7.3"
  }
 },
 "nbformat": 4,
 "nbformat_minor": 2
}
