{
 "cells": [
  {
   "cell_type": "code",
   "execution_count": 1,
   "metadata": {},
   "outputs": [],
   "source": [
    "def cartesian_product(x,y):\n",
    "    '''\n",
    "    This function will take two iterables and returns \n",
    "    the cartesian product of them as a list\n",
    "    '''\n",
    "    return [a+b for a in x for b in y]"
   ]
  },
  {
   "cell_type": "code",
   "execution_count": 2,
   "metadata": {},
   "outputs": [],
   "source": [
    "def display(values):\n",
    "    \"\"\"\n",
    "    Display the values as a 2-D grid.\n",
    "    Input: The sudoku in dictionary form\n",
    "    Output: None\n",
    "    \"\"\"\n",
    "    print('')\n",
    "    \n",
    "    rows = 'ABCDEFGHI'\n",
    "    cols = '123456789'\n",
    "    boxes = cartesian_product(rows, cols)\n",
    "    \n",
    "    width = 1+max(len(values[s]) for s in boxes)\n",
    "    line = '+'.join(['-'*(width*3)]*3)\n",
    "    for r in rows:\n",
    "        print(''.join(values[r+c].center(width)+('|' if c in '36' else '')\n",
    "                    for c in cols))\n",
    "        if r in 'CF': print(line)\n",
    "    return"
   ]
  },
  {
   "cell_type": "code",
   "execution_count": 3,
   "metadata": {},
   "outputs": [],
   "source": [
    "def eliminate(grid_dict):\n",
    "    for k,v in grid_dict.items():\n",
    "        if len(v) != 1: # if the box needs elimination\n",
    "            peers = peer_dict[k]    # get all the peers\n",
    "            peer_values = set([grid_dict[p] for p in peers if len(grid_dict[p]) == 1])\n",
    "            grid_dict[k] = ''.join(set(grid_dict[k]) - peer_values)\n",
    "    return grid_dict"
   ]
  },
  {
   "cell_type": "code",
   "execution_count": 4,
   "metadata": {},
   "outputs": [],
   "source": [
    "def only_choice(grid_dict):\n",
    "    for unit in unit_list:\n",
    "        for num in '123456789':\n",
    "            num_places = [box for box in unit if num in grid_dict[box]]\n",
    "            if len(num_places) == 1:\n",
    "                grid_dict[num_places[0]] = num\n",
    "    return grid_dict"
   ]
  },
  {
   "cell_type": "code",
   "execution_count": 5,
   "metadata": {},
   "outputs": [],
   "source": [
    "def naked_twins(grid_dict):\n",
    "    for unit in unit_list:\n",
    "        \n",
    "        # slice the grid_dict to contain only the boxes in the unit\n",
    "        values = dict([[box, ''.join(sorted(grid_dict[box]))] for box in unit])\n",
    "        \n",
    "        # find all the items with 2-digit values\n",
    "        double_digits = dict([[box, values[box]] for box in values if len(values[box])==2])\n",
    "        \n",
    "        # check if any of those 2-digit values occur exactly twice\n",
    "        double_digits_occuring_twice = dict([[box, val] for box, val in double_digits.items() if list(double_digits.values()).count(val)==2])\n",
    "        \n",
    "        if len(double_digits_occuring_twice.items()) != 0:\n",
    "            # reverse the dictionary to get the key-pairs easily\n",
    "            reverse_dict = {}\n",
    "            for k, v in double_digits_occuring_twice.items():\n",
    "                reverse_dict.setdefault(v, []).append(k)\n",
    "\n",
    "            # it is a list of 2 items(keys | boxes) only\n",
    "            naked_twins = list(reverse_dict.items())[0][1]\n",
    "\n",
    "            # remove the naked_twins digits from other boxes in the unit\n",
    "            for k,v in values.items():\n",
    "                if (k not in naked_twins) and (len(v) > 1):\n",
    "                    values[k] = ''.join(set(values[k]) - set(values[naked_twins[0]]))\n",
    "    \n",
    "        # replace the values in grid_dict with the updated values\n",
    "        for k,v in values.items():\n",
    "            grid_dict[k] = v\n",
    "    \n",
    "    return grid_dict\n",
    "\n",
    "#         double_digits = dict([[box, values.values().count(box)] for box in values.values() if len(box)==2])\n",
    "#         naked_twins = [k for k,count in double_digits.items() if count==2]\n",
    "        "
   ]
  },
  {
   "cell_type": "code",
   "execution_count": 6,
   "metadata": {},
   "outputs": [],
   "source": [
    "def run_episode(grid_dict):\n",
    "    stuck = False\n",
    "    while not stuck:\n",
    "        # Check how many boxes have a fixed value\n",
    "        solved_values_before = len([box for box in grid_dict.keys() if len(grid_dict[box]) == 1])\n",
    "        \n",
    "        # Use the Eliminate Strategy\n",
    "        grid_dict = eliminate(grid_dict)\n",
    "        \n",
    "        # Use the Only Choice Strategy\n",
    "        grid_dict = only_choice(grid_dict)\n",
    "        \n",
    "        # Use the Naked Twins Strategy\n",
    "        grid_dict = naked_twins(grid_dict)\n",
    "        \n",
    "        # Check how many boxes have a determined value, to compare\n",
    "        solved_values_after = len([box for box in grid_dict.keys() if len(grid_dict[box]) == 1])\n",
    "        \n",
    "        # If no new values were added, stop the loop.\n",
    "        stuck = solved_values_before == solved_values_after\n",
    "        \n",
    "        \n",
    "        # if the current sudoku configuration is un-solvable then return False\n",
    "        if len([box for box in grid_dict.keys() if len(grid_dict[box]) == 0]):\n",
    "            return False \n",
    "    return grid_dict"
   ]
  },
  {
   "cell_type": "code",
   "execution_count": 7,
   "metadata": {},
   "outputs": [],
   "source": [
    "def search(grid_dict):\n",
    "    grid_dict = run_episode(grid_dict)\n",
    "    \n",
    "    if grid_dict is False:\n",
    "        return False\n",
    "    \n",
    "    if all(len(v) == 1 for k,v in grid_dict.items()): \n",
    "        return grid_dict\n",
    "    \n",
    "    # Choose one of the unfilled squares with the fewest possibilities\n",
    "    length,k = min((len(val), key) for key,val in grid_dict.items() if len(val) > 1)\n",
    "    # print(k, length)\n",
    "    \n",
    "    # Now use recurrence to solve each one of the resulting sudokus, and \n",
    "    for digit in grid_dict[k]:\n",
    "        new_sudoku = dict(list(grid_dict.items()))\n",
    "        new_sudoku[k] = digit\n",
    "        attempt = search(new_sudoku)\n",
    "        if attempt:\n",
    "            return attempt"
   ]
  },
  {
   "cell_type": "code",
   "execution_count": 8,
   "metadata": {},
   "outputs": [
    {
     "name": "stdout",
     "output_type": "stream",
     "text": [
      "\n",
      "8 1 4 |2 5 3 |6 9 7 \n",
      "9 2 3 |6 7 8 |1 5 4 \n",
      "5 7 6 |4 9 1 |2 8 3 \n",
      "------+------+------\n",
      "3 5 2 |9 6 7 |8 4 1 \n",
      "1 8 9 |3 4 5 |7 2 6 \n",
      "4 6 7 |1 8 2 |9 3 5 \n",
      "------+------+------\n",
      "2 4 1 |7 3 9 |5 6 8 \n",
      "7 6 8 |5 2 4 |3 1 9 \n",
      "3 9 5 |8 1 6 |4 7 2 \n"
     ]
    }
   ],
   "source": [
    "if __name__ == '__main__':\n",
    "    \n",
    "    # this is the worlds' hardest sudoku puzzle\n",
    "    start = '8..........36......7..9.2...5...7.......457.....1...3...1....68..85...1..9....4..'\n",
    "    # start = '..3.2.6..9..3.5..1..18.64....81.29..7.......8..67.82....26.95..8..2.3..9..5.1.3..'\n",
    "    \n",
    "    rows = 'ABCDEFGHI'\n",
    "    cols = '123456789'\n",
    "    boxes = cartesian_product(rows, cols)\n",
    "\n",
    "    row_units = [cartesian_product(r, cols) for r in rows]\n",
    "    col_units = [cartesian_product(rows, c) for c in cols]\n",
    "    box_units = [cartesian_product(r,c) \n",
    "                    for r in ['ABC', 'DEF', 'GHI'] \n",
    "                    for c in ['123','456','789']]\n",
    "\n",
    "    unit_list = row_units + col_units + box_units\n",
    "\n",
    "    # each box(key) with its units(value)\n",
    "    unit_dict = dict((box, [unit for unit in unit_list if box in unit]) for box in boxes)\n",
    "    \n",
    "    # each box with its peers\n",
    "    peer_dict = dict((box, set(sum(unit_dict[box], [])) - set([box])) for box in boxes)\n",
    "\n",
    "    # start string converted to dictionary\n",
    "    assert len(start) == 81\n",
    "    grid_dict = dict(zip(boxes, start))\n",
    "\n",
    "    # replacing the dots(.) with '123456789' (possible values in the box)\n",
    "    for k,v in grid_dict.items():\n",
    "        if v == '.':\n",
    "            grid_dict[k] = '123456789'\n",
    "            \n",
    "    solved_grid = search(grid_dict)\n",
    "    \n",
    "    display(solved_grid)"
   ]
  },
  {
   "cell_type": "code",
   "execution_count": 9,
   "metadata": {},
   "outputs": [],
   "source": [
    "# display(grid_dict)"
   ]
  },
  {
   "cell_type": "code",
   "execution_count": 10,
   "metadata": {},
   "outputs": [],
   "source": [
    "# new_grid = eliminate(grid_dict)"
   ]
  },
  {
   "cell_type": "code",
   "execution_count": 11,
   "metadata": {},
   "outputs": [],
   "source": [
    "# display(new_grid)"
   ]
  },
  {
   "cell_type": "code",
   "execution_count": 12,
   "metadata": {},
   "outputs": [],
   "source": [
    "# naked_dict = naked_twins(new_grid)"
   ]
  },
  {
   "cell_type": "code",
   "execution_count": 13,
   "metadata": {},
   "outputs": [],
   "source": [
    "# display(naked_dict)"
   ]
  },
  {
   "cell_type": "code",
   "execution_count": null,
   "metadata": {},
   "outputs": [],
   "source": []
  }
 ],
 "metadata": {
  "kernelspec": {
   "display_name": "Python 3",
   "language": "python",
   "name": "python3"
  },
  "language_info": {
   "codemirror_mode": {
    "name": "ipython",
    "version": 3
   },
   "file_extension": ".py",
   "mimetype": "text/x-python",
   "name": "python",
   "nbconvert_exporter": "python",
   "pygments_lexer": "ipython3",
   "version": "3.6.7"
  }
 },
 "nbformat": 4,
 "nbformat_minor": 2
}
