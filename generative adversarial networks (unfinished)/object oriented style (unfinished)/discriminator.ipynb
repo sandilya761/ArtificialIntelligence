{
 "cells": [
  {
   "cell_type": "markdown",
   "metadata": {},
   "source": [
    "## Discriminator class file\n",
    "discriminator network is present here"
   ]
  },
  {
   "cell_type": "code",
   "execution_count": 2,
   "metadata": {},
   "outputs": [],
   "source": [
    "import tensorflow as tf\n",
    "import numpy as np\n",
    "\n",
    "from ipynb.fs.full.helpers import *"
   ]
  },
  {
   "cell_type": "code",
   "execution_count": 39,
   "metadata": {},
   "outputs": [],
   "source": [
    "class Discriminator:\n",
    "    \n",
    "    def __init__(self, input_place):\n",
    "        '''define and initialize all the variables and placeholders here\n",
    "        \n",
    "            Args: \n",
    "            input_place will take the placeholder variable for discriminator (true images)\n",
    "            \n",
    "        '''\n",
    "        \n",
    "        with tf.variable_scope('d'):\n",
    "            #self.input_shape = input_shape\n",
    "            #self.x_image = tf.placeholder(tf.float32, shape = self.input_shape)\n",
    "            self.x_image = input_place\n",
    "    \n",
    "    def forward(self):\n",
    "        # build the network using the variables here\n",
    "        \n",
    "        dnet = helper_conv2d(self.x_image, 64)\n",
    "        dnet = tf.nn.leaky_relu(dnet)                        \n",
    "    \n",
    "        dnet = helper_conv2d(dnet, 128)\n",
    "        dnet = tf.layers.batch_normalization(inputs = dnet)\n",
    "        dnet = tf.nn.leaky_relu(dnet)\n",
    "\n",
    "        dnet = helper_conv2d(dnet, 256)\n",
    "        dnet = tf.layers.batch_normalization(inputs = dnet)\n",
    "        dnet = tf.nn.leaky_relu(dnet)\n",
    "             \n",
    "        dnet = helper_conv2d(dnet, 512)\n",
    "        dnet = tf.layers.batch_normalization(inputs = dnet)\n",
    "        dnet = tf.nn.leaky_relu(dnet)    \n",
    "        \n",
    "        #dnet = helper_conv2d(dnet, 1, (1,1), 'valid')\n",
    "        \n",
    "        dnet = tf.layers.flatten(dnet)\n",
    "        dnet = tf.nn.sigmoid(dnet)\n",
    "           \n",
    "        return dnet # flattened layer --> input to dense layer"
   ]
  },
  {
   "cell_type": "code",
   "execution_count": 40,
   "metadata": {},
   "outputs": [],
   "source": [
    "#d = Discriminator(tf.placeholder(tf.float32, shape=[None,64,64,3]))"
   ]
  },
  {
   "cell_type": "code",
   "execution_count": 41,
   "metadata": {},
   "outputs": [
    {
     "data": {
      "text/plain": [
       "<tf.Tensor 'Sigmoid_2:0' shape=(?, 8192) dtype=float32>"
      ]
     },
     "execution_count": 41,
     "metadata": {},
     "output_type": "execute_result"
    }
   ],
   "source": [
    "#d.forward()"
   ]
  },
  {
   "cell_type": "code",
   "execution_count": 42,
   "metadata": {},
   "outputs": [],
   "source": [
    "#del d"
   ]
  },
  {
   "cell_type": "code",
   "execution_count": null,
   "metadata": {},
   "outputs": [],
   "source": []
  },
  {
   "cell_type": "code",
   "execution_count": null,
   "metadata": {},
   "outputs": [],
   "source": []
  }
 ],
 "metadata": {
  "kernelspec": {
   "display_name": "Python 3",
   "language": "python",
   "name": "python3"
  },
  "language_info": {
   "codemirror_mode": {
    "name": "ipython",
    "version": 3
   },
   "file_extension": ".py",
   "mimetype": "text/x-python",
   "name": "python",
   "nbconvert_exporter": "python",
   "pygments_lexer": "ipython3",
   "version": "3.6.6"
  }
 },
 "nbformat": 4,
 "nbformat_minor": 2
}
