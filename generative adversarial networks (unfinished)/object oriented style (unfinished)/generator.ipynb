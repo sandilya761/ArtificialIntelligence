{
 "cells": [
  {
   "cell_type": "markdown",
   "metadata": {},
   "source": [
    "## Generator class file\n",
    "generator network is present here"
   ]
  },
  {
   "cell_type": "code",
   "execution_count": 2,
   "metadata": {},
   "outputs": [],
   "source": [
    "import tensorflow as tf\n",
    "import numpy as np\n",
    "\n",
    "from ipynb.fs.full.helpers import *"
   ]
  },
  {
   "cell_type": "code",
   "execution_count": 4,
   "metadata": {},
   "outputs": [],
   "source": [
    "class Generator:\n",
    "    \n",
    "    def __init__(self, g_place):\n",
    "        ''' define and initialize all the variables and placeholders here\n",
    "            initial image shape of generator will be (4x4x1)\n",
    "            \n",
    "            Args: \n",
    "            g_place will take the placeholder variable for generator (randomly generated images)\n",
    "                   \n",
    "        '''\n",
    "                \n",
    "        with tf.variable_scope('g'):\n",
    "            #self.g_shape = g_shape\n",
    "            #self.g_image = tf.placeholder(tf.float32, shape = self.g_shape)\n",
    "            self.g_image = g_place\n",
    "    \n",
    "    def forward(self):\n",
    "        # build the network using the variables here\n",
    "        \n",
    "        \n",
    "        gnet = helper_conv2d_transpose(self.g_image, 512, (1,1), 'valid')\n",
    "        gnet = tf.layers.batch_normalization(inputs = gnet)\n",
    "        gnet = tf.nn.relu(gnet)\n",
    "\n",
    "        gnet = helper_conv2d_transpose(gnet, 256)\n",
    "        gnet = tf.layers.batch_normalization(inputs = gnet)\n",
    "        gnet = tf.nn.relu(gnet)\n",
    "                \n",
    "        gnet = helper_conv2d_transpose(gnet, 128)\n",
    "        gnet = tf.layers.batch_normalization(inputs = gnet)\n",
    "        gnet = tf.nn.relu(gnet)\n",
    "              \n",
    "        gnet = helper_conv2d_transpose(gnet, 64)\n",
    "        gnet = tf.layers.batch_normalization(inputs = gnet)\n",
    "        gnet = tf.nn.relu(gnet)\n",
    "                      \n",
    "        gnet = helper_conv2d_transpose(gnet, 3)\n",
    "        \n",
    "        gnet = tf.nn.tanh(gnet)\n",
    "        \n",
    "        return gnet # generated image sample --> fake training data\n",
    "       "
   ]
  },
  {
   "cell_type": "code",
   "execution_count": 37,
   "metadata": {},
   "outputs": [],
   "source": [
    "#g = Generator(tf.placeholder(tf.float32, [None, 1,1,100]))"
   ]
  },
  {
   "cell_type": "code",
   "execution_count": 38,
   "metadata": {},
   "outputs": [
    {
     "data": {
      "text/plain": [
       "<tf.Tensor 'Tanh_9:0' shape=(?, 64, 64, 3) dtype=float32>"
      ]
     },
     "execution_count": 38,
     "metadata": {},
     "output_type": "execute_result"
    }
   ],
   "source": [
    "#g.forward()"
   ]
  },
  {
   "cell_type": "code",
   "execution_count": 40,
   "metadata": {},
   "outputs": [
    {
     "ename": "NameError",
     "evalue": "name 'g' is not defined",
     "output_type": "error",
     "traceback": [
      "\u001b[1;31m---------------------------------------------------------------------------\u001b[0m",
      "\u001b[1;31mNameError\u001b[0m                                 Traceback (most recent call last)",
      "\u001b[1;32m<ipython-input-40-5ef31b88c747>\u001b[0m in \u001b[0;36m<module>\u001b[1;34m()\u001b[0m\n\u001b[1;32m----> 1\u001b[1;33m \u001b[1;32mdel\u001b[0m \u001b[0mg\u001b[0m\u001b[1;33m\u001b[0m\u001b[0m\n\u001b[0m",
      "\u001b[1;31mNameError\u001b[0m: name 'g' is not defined"
     ]
    }
   ],
   "source": [
    "#del g"
   ]
  },
  {
   "cell_type": "code",
   "execution_count": null,
   "metadata": {},
   "outputs": [],
   "source": []
  }
 ],
 "metadata": {
  "kernelspec": {
   "display_name": "Python 3",
   "language": "python",
   "name": "python3"
  },
  "language_info": {
   "codemirror_mode": {
    "name": "ipython",
    "version": 3
   },
   "file_extension": ".py",
   "mimetype": "text/x-python",
   "name": "python",
   "nbconvert_exporter": "python",
   "pygments_lexer": "ipython3",
   "version": "3.6.6"
  }
 },
 "nbformat": 4,
 "nbformat_minor": 2
}
