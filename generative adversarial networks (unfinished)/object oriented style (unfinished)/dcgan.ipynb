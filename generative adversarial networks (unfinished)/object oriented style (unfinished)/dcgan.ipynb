{
 "cells": [
  {
   "cell_type": "markdown",
   "metadata": {},
   "source": [
    "## This is the main file\n",
    "This is where we will train the network "
   ]
  },
  {
   "cell_type": "code",
   "execution_count": 12,
   "metadata": {},
   "outputs": [],
   "source": [
    "import tensorflow as tf\n",
    "import numpy as np\n",
    "\n",
    "from ipynb.fs.full.generator import Generator\n",
    "from ipynb.fs.full.discriminator import Discriminator\n",
    "from ipynb.fs.full.helpers import *"
   ]
  },
  {
   "cell_type": "code",
   "execution_count": 26,
   "metadata": {},
   "outputs": [
    {
     "data": {
      "text/plain": [
       "<tf.Tensor 'Tanh_5:0' shape=(?, 64, 64, 3) dtype=float32>"
      ]
     },
     "execution_count": 26,
     "metadata": {},
     "output_type": "execute_result"
    }
   ],
   "source": [
    "g = Generator(tf.placeholder(tf.float32, [None,1,1,100]))\n",
    "g.forward()"
   ]
  },
  {
   "cell_type": "code",
   "execution_count": 27,
   "metadata": {},
   "outputs": [
    {
     "data": {
      "text/plain": [
       "(<tf.Tensor 'Sigmoid_5:0' shape=(?, 8192) dtype=float32>,\n",
       " <tf.Tensor 'flatten_5/Reshape:0' shape=(?, 8192) dtype=float32>)"
      ]
     },
     "execution_count": 27,
     "metadata": {},
     "output_type": "execute_result"
    }
   ],
   "source": [
    "d = Discriminator(tf.placeholder(tf.float32, [None,64,64,3]))\n",
    "d.forward()"
   ]
  },
  {
   "cell_type": "code",
   "execution_count": null,
   "metadata": {},
   "outputs": [],
   "source": [
    "class DCGAN:\n",
    "    \n",
    "    def __init__(self):\n",
    "        gen_ph = tf.placeholder(tf.float32, [None,1,1,100]) # for random noise\n",
    "        dis_ph = tf.placeholder(tf.float32, [None,64,64,3]) # for training images\n",
    "                \n",
    "        g = Generator(gen_ph)\n",
    "        gen_out = g.forward()\n",
    "        \n",
    "        real_d = Discriminator(dis_ph).forward()\n",
    "        fake_d = Discriminator(gen_out).forward()\n",
    "        \n",
    "        g_out = g.forward()\n",
    "        d_out = d.forward()"
   ]
  },
  {
   "cell_type": "code",
   "execution_count": null,
   "metadata": {},
   "outputs": [],
   "source": []
  },
  {
   "cell_type": "code",
   "execution_count": null,
   "metadata": {},
   "outputs": [],
   "source": []
  }
 ],
 "metadata": {
  "kernelspec": {
   "display_name": "Python 3",
   "language": "python",
   "name": "python3"
  },
  "language_info": {
   "codemirror_mode": {
    "name": "ipython",
    "version": 3
   },
   "file_extension": ".py",
   "mimetype": "text/x-python",
   "name": "python",
   "nbconvert_exporter": "python",
   "pygments_lexer": "ipython3",
   "version": "3.6.6"
  }
 },
 "nbformat": 4,
 "nbformat_minor": 2
}
