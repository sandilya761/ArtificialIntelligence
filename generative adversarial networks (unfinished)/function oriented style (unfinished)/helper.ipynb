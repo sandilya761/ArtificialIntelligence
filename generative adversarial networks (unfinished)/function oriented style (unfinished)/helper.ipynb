{
 "cells": [
  {
   "cell_type": "markdown",
   "metadata": {},
   "source": [
    "## helper function are in this file"
   ]
  },
  {
   "cell_type": "code",
   "execution_count": 1,
   "metadata": {},
   "outputs": [],
   "source": [
    "import tensorflow as tf\n",
    "import numpy as np"
   ]
  },
  {
   "cell_type": "code",
   "execution_count": 2,
   "metadata": {},
   "outputs": [],
   "source": [
    "def helper_conv2d_transpose(inputs, filters, strides = (2,2), padding = 'same'):\n",
    "    return tf.layers.conv2d_transpose(inputs = inputs,\n",
    "                                        filters = filters, \n",
    "                                        kernel_size = 4, \n",
    "                                        strides = strides, \n",
    "                                        padding = padding, \n",
    "                                        use_bias = False, \n",
    "                                        kernel_initializer = tf.contrib.layers.xavier_initializer_conv2d())"
   ]
  },
  {
   "cell_type": "code",
   "execution_count": 3,
   "metadata": {},
   "outputs": [],
   "source": [
    "def helper_conv2d(inputs, filters, strides = (2,2), padding = 'same'):\n",
    "    return tf.layers.conv2d(inputs = inputs,\n",
    "                                        filters = filters, \n",
    "                                        kernel_size = 4, \n",
    "                                        strides = strides, \n",
    "                                        padding = padding, \n",
    "                                        use_bias = False, \n",
    "                                        kernel_initializer = tf.contrib.layers.xavier_initializer_conv2d())"
   ]
  },
  {
   "cell_type": "code",
   "execution_count": 4,
   "metadata": {},
   "outputs": [],
   "source": [
    "def helper_loss(labels_in, logits_in):\n",
    "    return tf.nn.sigmoid_cross_entropy_with_logits(labels=labels_in, logits=logits_in)"
   ]
  },
  {
   "cell_type": "code",
   "execution_count": null,
   "metadata": {},
   "outputs": [],
   "source": []
  }
 ],
 "metadata": {
  "kernelspec": {
   "display_name": "Python 3",
   "language": "python",
   "name": "python3"
  },
  "language_info": {
   "codemirror_mode": {
    "name": "ipython",
    "version": 3
   },
   "file_extension": ".py",
   "mimetype": "text/x-python",
   "name": "python",
   "nbconvert_exporter": "python",
   "pygments_lexer": "ipython3",
   "version": "3.6.6"
  }
 },
 "nbformat": 4,
 "nbformat_minor": 2
}
