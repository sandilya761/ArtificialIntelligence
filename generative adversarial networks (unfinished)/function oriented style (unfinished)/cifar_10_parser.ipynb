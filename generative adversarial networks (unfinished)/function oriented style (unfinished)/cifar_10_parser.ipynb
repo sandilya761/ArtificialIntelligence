{
 "cells": [
  {
   "cell_type": "code",
   "execution_count": 1,
   "metadata": {},
   "outputs": [],
   "source": [
    "import numpy as np\n",
    "import matplotlib.pyplot as plt\n",
    "import pickle\n",
    "import os"
   ]
  },
  {
   "cell_type": "code",
   "execution_count": 2,
   "metadata": {},
   "outputs": [],
   "source": [
    "batch_size = 50"
   ]
  },
  {
   "cell_type": "code",
   "execution_count": 3,
   "metadata": {},
   "outputs": [],
   "source": [
    "path = r'C:\\Users\\Admin\\Desktop\\program\\datasets\\cifar-10-batches-py\\data_batch_1'\n",
    "\n",
    "def _unpickle(file):\n",
    "    with open(file, 'rb') as fo:\n",
    "        dict = pickle.load(fo, encoding='bytes')\n",
    "    return dict"
   ]
  },
  {
   "cell_type": "code",
   "execution_count": 4,
   "metadata": {},
   "outputs": [],
   "source": [
    "d = _unpickle(path)"
   ]
  },
  {
   "cell_type": "code",
   "execution_count": 5,
   "metadata": {},
   "outputs": [
    {
     "data": {
      "text/plain": [
       "dict_keys([b'batch_label', b'labels', b'data', b'filenames'])"
      ]
     },
     "execution_count": 5,
     "metadata": {},
     "output_type": "execute_result"
    }
   ],
   "source": [
    "d.keys()"
   ]
  },
  {
   "cell_type": "code",
   "execution_count": 6,
   "metadata": {},
   "outputs": [],
   "source": [
    "#num_images, img_size = d[b'data'].shape[0], d[b'data'].shape[1]"
   ]
  },
  {
   "cell_type": "code",
   "execution_count": 7,
   "metadata": {},
   "outputs": [
    {
     "data": {
      "text/plain": [
       "<matplotlib.image.AxesImage at 0x2129d0f14a8>"
      ]
     },
     "execution_count": 7,
     "metadata": {},
     "output_type": "execute_result"
    },
    {
     "data": {
      "image/png": "[encoded data removed]",
      "text/plain": [
       "<Figure size 432x288 with 1 Axes>"
      ]
     },
     "metadata": {},
     "output_type": "display_data"
    }
   ],
   "source": [
    "plt.imshow(d[b'data'][1].reshape(3,1024).reshape(3,32,32).transpose((1,2,0)))"
   ]
  },
  {
   "cell_type": "code",
   "execution_count": 8,
   "metadata": {
    "scrolled": true
   },
   "outputs": [],
   "source": [
    "# first, convert the entire file into a series of images\n",
    "# then lazy load every image or a batch of images(generator function)"
   ]
  },
  {
   "cell_type": "code",
   "execution_count": 9,
   "metadata": {},
   "outputs": [],
   "source": [
    "def cifar_parser(file_path, batch_size):\n",
    "    ''' Takes the path to a pickled file as input and returns a numpy\n",
    "        array. 'iter()' can be used to create an iterator and 'next()'\n",
    "        can be used to generate a batch of images everytime.\n",
    "        \n",
    "        Args:\n",
    "            file_path : The full path of the file as a raw string\n",
    "            batch_size : The number of images to generate at each batch\n",
    "    '''\n",
    "    \n",
    "    \n",
    "    d = _unpickle(file_path)\n",
    "    num_images, img_size = d[b'data'].shape[0], d[b'data'].shape[1]\n",
    "    \n",
    "    # batch_data is just the entire data of the pickle file as a numpy array\n",
    "    # which is reshaped in such a way that it is easy to create an iterator\n",
    "    # of the array and generate a batch everytime 'next(batch_size)' is run\n",
    "    batch_data = d[b'data'][:].reshape(num_images//batch_size,batch_size,3,img_size//3).reshape(num_images//batch_size,batch_size,3,int((img_size//3)**0.5),int((img_size//3)**0.5)).transpose((0,1,3,4,2))\n",
    "    return batch_data"
   ]
  },
  {
   "cell_type": "code",
   "execution_count": 10,
   "metadata": {},
   "outputs": [],
   "source": [
    "def cifar_iterator(folder_path, batch_size):\n",
    "    ''' function that takes the folder path\n",
    "        where all the cifar_10 files are present. 'iter()' can be used \n",
    "        to create an iterator and 'next()' can be used to generate a\n",
    "        batch of images everytime\n",
    "        \n",
    "        Args:\n",
    "            folder_path : The full path of the folder where all the cifar_10\n",
    "                            files are present. raw string input\n",
    "            batch_size : The number of images to generate at each batch\n",
    "    '''\n",
    "    \n",
    "    # make an os.listdir() to get the names of all the files\n",
    "    # get their paths by joining the folder path and the file name\n",
    "    \n",
    "    # The function will yield the 'batch_data' for each file and the 'batch_data'\n",
    "    # can then be iterated \"iter(batch_data)\" during training to get each batch\n",
    "    \n",
    "    # so we are creating a generator from a generator\n",
    "    for filename in os.listdir(folder_path):\n",
    "        file_path = os.path.join(folder_path, filename)\n",
    "        yield cifar_parser(file_path, batch_size)"
   ]
  },
  {
   "cell_type": "code",
   "execution_count": 11,
   "metadata": {},
   "outputs": [],
   "source": [
    "#file_iterator = cifar_iterator(r'C:\\Users\\Admin\\Desktop\\program\\datasets\\cifar-10-batches-py', 50)\n",
    "\n",
    "#num_files = len(os.listdir(r'C:\\Users\\Admin\\Desktop\\program\\datasets\\cifar-10-batches-py'))\n",
    "\n",
    "def batch_generator(folder_path, batch_size):\n",
    "    file_iterator = cifar_iterator(folder_path, batch_size)\n",
    "    num_files = len(os.listdir(folder_path))\n",
    "    \n",
    "    for _ in range(num_files):\n",
    "        file_data = next(file_iterator) # load a file and parse it into (200,50,32,32,3) array\n",
    "        batch_iterator = iter(file_data)\n",
    "        \n",
    "        for _ in range(file_data.shape[0]):\n",
    "            batch_data = next(batch_iterator) # outputs a batch of size (50,32,32,3) from the file of size (200,50,32,32,3)\n",
    "            yield batch_data"
   ]
  },
  {
   "cell_type": "code",
   "execution_count": 12,
   "metadata": {},
   "outputs": [],
   "source": [
    "f_path = r'C:\\Users\\Admin\\Desktop\\program\\datasets\\cifar-10-batches-py'\n",
    "# batch_size = 50"
   ]
  },
  {
   "cell_type": "code",
   "execution_count": 13,
   "metadata": {},
   "outputs": [],
   "source": [
    "batch = batch_generator(f_path, 50)"
   ]
  },
  {
   "cell_type": "code",
   "execution_count": null,
   "metadata": {},
   "outputs": [],
   "source": []
  },
  {
   "cell_type": "code",
   "execution_count": null,
   "metadata": {},
   "outputs": [],
   "source": []
  }
 ],
 "metadata": {
  "kernelspec": {
   "display_name": "Python 3",
   "language": "python",
   "name": "python3"
  },
  "language_info": {
   "codemirror_mode": {
    "name": "ipython",
    "version": 3
   },
   "file_extension": ".py",
   "mimetype": "text/x-python",
   "name": "python",
   "nbconvert_exporter": "python",
   "pygments_lexer": "ipython3",
   "version": "3.6.6"
  }
 },
 "nbformat": 4,
 "nbformat_minor": 2
}
